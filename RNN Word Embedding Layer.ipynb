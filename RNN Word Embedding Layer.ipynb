{
 "cells": [
  {
   "cell_type": "code",
   "execution_count": 4,
   "metadata": {},
   "outputs": [],
   "source": [
    "import keras\n",
    "from keras.preprocessing.text import one_hot"
   ]
  },
  {
   "cell_type": "code",
   "execution_count": 5,
   "metadata": {},
   "outputs": [],
   "source": [
    "sent=['the glass of milk','the glass of juice','the cup of tea','i am a good developer',\n",
    "      'understand the meaning of words','your videos are good']"
   ]
  },
  {
   "cell_type": "code",
   "execution_count": 6,
   "metadata": {},
   "outputs": [
    {
     "data": {
      "text/plain": [
       "['the glass of milk',\n",
       " 'the glass of juice',\n",
       " 'the cup of tea',\n",
       " 'i am a good developer',\n",
       " 'understand the meaning of words',\n",
       " 'your videos are good']"
      ]
     },
     "execution_count": 6,
     "metadata": {},
     "output_type": "execute_result"
    }
   ],
   "source": [
    "sent"
   ]
  },
  {
   "cell_type": "code",
   "execution_count": 7,
   "metadata": {},
   "outputs": [],
   "source": [
    "voc_size=10000"
   ]
  },
  {
   "cell_type": "code",
   "execution_count": 8,
   "metadata": {},
   "outputs": [
    {
     "data": {
      "text/plain": [
       "[[3703, 3545, 8126, 9404],\n",
       " [3703, 3545, 8126, 2626],\n",
       " [3703, 3240, 8126, 2859],\n",
       " [9094, 7276, 1565, 6302, 446],\n",
       " [5705, 3703, 176, 8126, 7371],\n",
       " [4684, 6289, 5361, 6302]]"
      ]
     },
     "execution_count": 8,
     "metadata": {},
     "output_type": "execute_result"
    }
   ],
   "source": [
    "df=[one_hot(words,voc_size) for words in sent]\n",
    "df"
   ]
  },
  {
   "cell_type": "code",
   "execution_count": 11,
   "metadata": {},
   "outputs": [],
   "source": [
    "from keras.models import Sequential\n",
    "from keras.preprocessing.sequence import pad_sequences\n",
    "from keras.layers import Embedding\n",
    "import numpy as np\n"
   ]
  },
  {
   "cell_type": "code",
   "execution_count": 12,
   "metadata": {},
   "outputs": [
    {
     "data": {
      "text/plain": [
       "array([[   0,    0,    0,    0, 3703, 3545, 8126, 9404],\n",
       "       [   0,    0,    0,    0, 3703, 3545, 8126, 2626],\n",
       "       [   0,    0,    0,    0, 3703, 3240, 8126, 2859],\n",
       "       [   0,    0,    0, 9094, 7276, 1565, 6302,  446],\n",
       "       [   0,    0,    0, 5705, 3703,  176, 8126, 7371],\n",
       "       [   0,    0,    0,    0, 4684, 6289, 5361, 6302]])"
      ]
     },
     "execution_count": 12,
     "metadata": {},
     "output_type": "execute_result"
    }
   ],
   "source": [
    "df_length=8\n",
    "emb=pad_sequences(df,padding='pre',maxlen=df_length)\n",
    "emb"
   ]
  },
  {
   "cell_type": "code",
   "execution_count": 13,
   "metadata": {},
   "outputs": [],
   "source": [
    "dim=10"
   ]
  },
  {
   "cell_type": "code",
   "execution_count": 15,
   "metadata": {},
   "outputs": [],
   "source": [
    "model=Sequential()\n",
    "model.add(Embedding(voc_size,10,input_length=df_length))\n",
    "model.compile('adam','mse')"
   ]
  },
  {
   "cell_type": "code",
   "execution_count": 16,
   "metadata": {},
   "outputs": [
    {
     "name": "stdout",
     "output_type": "stream",
     "text": [
      "Model: \"sequential_1\"\n",
      "_________________________________________________________________\n",
      "Layer (type)                 Output Shape              Param #   \n",
      "=================================================================\n",
      "embedding (Embedding)        (None, 8, 10)             100000    \n",
      "=================================================================\n",
      "Total params: 100,000\n",
      "Trainable params: 100,000\n",
      "Non-trainable params: 0\n",
      "_________________________________________________________________\n"
     ]
    }
   ],
   "source": [
    "model.summary()"
   ]
  },
  {
   "cell_type": "code",
   "execution_count": 17,
   "metadata": {},
   "outputs": [
    {
     "name": "stdout",
     "output_type": "stream",
     "text": [
      "[[[-4.88149188e-02  1.38456561e-02  2.28932761e-02  1.20052323e-02\n",
      "   -4.59753051e-02  9.74689797e-03 -1.99673772e-02  1.22464411e-02\n",
      "   -3.26864012e-02 -2.72955652e-02]\n",
      "  [-4.88149188e-02  1.38456561e-02  2.28932761e-02  1.20052323e-02\n",
      "   -4.59753051e-02  9.74689797e-03 -1.99673772e-02  1.22464411e-02\n",
      "   -3.26864012e-02 -2.72955652e-02]\n",
      "  [-4.88149188e-02  1.38456561e-02  2.28932761e-02  1.20052323e-02\n",
      "   -4.59753051e-02  9.74689797e-03 -1.99673772e-02  1.22464411e-02\n",
      "   -3.26864012e-02 -2.72955652e-02]\n",
      "  [-4.88149188e-02  1.38456561e-02  2.28932761e-02  1.20052323e-02\n",
      "   -4.59753051e-02  9.74689797e-03 -1.99673772e-02  1.22464411e-02\n",
      "   -3.26864012e-02 -2.72955652e-02]\n",
      "  [-4.07896154e-02 -3.92385609e-02  9.34988260e-03 -4.01181206e-02\n",
      "    3.51057909e-02 -1.78276077e-02 -2.01547276e-02  1.78346373e-02\n",
      "   -3.82959619e-02  1.34899132e-02]\n",
      "  [ 4.32253741e-02  2.14290060e-02  4.14149798e-02  9.95321199e-03\n",
      "   -1.22870579e-02 -2.97863968e-02  2.14702822e-02 -4.69166413e-02\n",
      "   -4.63888794e-03  1.87539719e-02]\n",
      "  [-1.43976323e-02 -4.94390130e-02  2.73723491e-02 -3.29960138e-04\n",
      "    4.26367261e-02 -1.24004260e-02  2.63530947e-02 -3.71471792e-03\n",
      "   -4.79318760e-02  6.87346607e-03]\n",
      "  [-1.75156817e-02  1.64706446e-02  3.63237001e-02 -1.83212161e-02\n",
      "    3.91423441e-02 -2.18868013e-02 -3.60552073e-02 -3.22833806e-02\n",
      "   -3.47908624e-02  4.95910756e-02]]\n",
      "\n",
      " [[-4.88149188e-02  1.38456561e-02  2.28932761e-02  1.20052323e-02\n",
      "   -4.59753051e-02  9.74689797e-03 -1.99673772e-02  1.22464411e-02\n",
      "   -3.26864012e-02 -2.72955652e-02]\n",
      "  [-4.88149188e-02  1.38456561e-02  2.28932761e-02  1.20052323e-02\n",
      "   -4.59753051e-02  9.74689797e-03 -1.99673772e-02  1.22464411e-02\n",
      "   -3.26864012e-02 -2.72955652e-02]\n",
      "  [-4.88149188e-02  1.38456561e-02  2.28932761e-02  1.20052323e-02\n",
      "   -4.59753051e-02  9.74689797e-03 -1.99673772e-02  1.22464411e-02\n",
      "   -3.26864012e-02 -2.72955652e-02]\n",
      "  [-4.88149188e-02  1.38456561e-02  2.28932761e-02  1.20052323e-02\n",
      "   -4.59753051e-02  9.74689797e-03 -1.99673772e-02  1.22464411e-02\n",
      "   -3.26864012e-02 -2.72955652e-02]\n",
      "  [-4.07896154e-02 -3.92385609e-02  9.34988260e-03 -4.01181206e-02\n",
      "    3.51057909e-02 -1.78276077e-02 -2.01547276e-02  1.78346373e-02\n",
      "   -3.82959619e-02  1.34899132e-02]\n",
      "  [ 4.32253741e-02  2.14290060e-02  4.14149798e-02  9.95321199e-03\n",
      "   -1.22870579e-02 -2.97863968e-02  2.14702822e-02 -4.69166413e-02\n",
      "   -4.63888794e-03  1.87539719e-02]\n",
      "  [-1.43976323e-02 -4.94390130e-02  2.73723491e-02 -3.29960138e-04\n",
      "    4.26367261e-02 -1.24004260e-02  2.63530947e-02 -3.71471792e-03\n",
      "   -4.79318760e-02  6.87346607e-03]\n",
      "  [-1.12376362e-03  3.77950333e-02 -3.43995169e-03  2.10024379e-02\n",
      "    9.84808058e-03  3.69149484e-02 -4.08131257e-02  5.78410551e-03\n",
      "    4.17339802e-03  4.70563658e-02]]\n",
      "\n",
      " [[-4.88149188e-02  1.38456561e-02  2.28932761e-02  1.20052323e-02\n",
      "   -4.59753051e-02  9.74689797e-03 -1.99673772e-02  1.22464411e-02\n",
      "   -3.26864012e-02 -2.72955652e-02]\n",
      "  [-4.88149188e-02  1.38456561e-02  2.28932761e-02  1.20052323e-02\n",
      "   -4.59753051e-02  9.74689797e-03 -1.99673772e-02  1.22464411e-02\n",
      "   -3.26864012e-02 -2.72955652e-02]\n",
      "  [-4.88149188e-02  1.38456561e-02  2.28932761e-02  1.20052323e-02\n",
      "   -4.59753051e-02  9.74689797e-03 -1.99673772e-02  1.22464411e-02\n",
      "   -3.26864012e-02 -2.72955652e-02]\n",
      "  [-4.88149188e-02  1.38456561e-02  2.28932761e-02  1.20052323e-02\n",
      "   -4.59753051e-02  9.74689797e-03 -1.99673772e-02  1.22464411e-02\n",
      "   -3.26864012e-02 -2.72955652e-02]\n",
      "  [-4.07896154e-02 -3.92385609e-02  9.34988260e-03 -4.01181206e-02\n",
      "    3.51057909e-02 -1.78276077e-02 -2.01547276e-02  1.78346373e-02\n",
      "   -3.82959619e-02  1.34899132e-02]\n",
      "  [-4.48637009e-02  4.65208925e-02  1.90408491e-02 -6.73749298e-03\n",
      "   -4.91201766e-02 -2.99801473e-02  3.78109105e-02  2.90279649e-02\n",
      "    8.41504335e-03  3.66776921e-02]\n",
      "  [-1.43976323e-02 -4.94390130e-02  2.73723491e-02 -3.29960138e-04\n",
      "    4.26367261e-02 -1.24004260e-02  2.63530947e-02 -3.71471792e-03\n",
      "   -4.79318760e-02  6.87346607e-03]\n",
      "  [-1.06091276e-02  1.96819417e-02 -3.31635699e-02  3.03495415e-02\n",
      "    1.10533461e-02  2.92194001e-02  2.14564838e-02  4.01552580e-02\n",
      "    3.36349122e-02  2.29268335e-02]]\n",
      "\n",
      " [[-4.88149188e-02  1.38456561e-02  2.28932761e-02  1.20052323e-02\n",
      "   -4.59753051e-02  9.74689797e-03 -1.99673772e-02  1.22464411e-02\n",
      "   -3.26864012e-02 -2.72955652e-02]\n",
      "  [-4.88149188e-02  1.38456561e-02  2.28932761e-02  1.20052323e-02\n",
      "   -4.59753051e-02  9.74689797e-03 -1.99673772e-02  1.22464411e-02\n",
      "   -3.26864012e-02 -2.72955652e-02]\n",
      "  [-4.88149188e-02  1.38456561e-02  2.28932761e-02  1.20052323e-02\n",
      "   -4.59753051e-02  9.74689797e-03 -1.99673772e-02  1.22464411e-02\n",
      "   -3.26864012e-02 -2.72955652e-02]\n",
      "  [ 3.12744044e-02  3.95144336e-02 -3.33200470e-02 -1.79953352e-02\n",
      "    4.76756729e-02  3.73743512e-02  2.67801173e-02 -1.48866065e-02\n",
      "    2.43371166e-02  1.38443150e-02]\n",
      "  [ 3.52271684e-02  2.86091231e-02  2.27815844e-02  4.33760323e-02\n",
      "   -1.78369880e-02 -4.53875065e-02  2.62494572e-02 -1.79419033e-02\n",
      "   -7.86540657e-03 -6.78817183e-03]\n",
      "  [-2.68698689e-02 -3.70128155e-02 -4.27182764e-03  2.99775265e-02\n",
      "   -3.41698080e-02  1.22721568e-02  8.10041279e-03 -4.32190299e-02\n",
      "   -2.28334218e-04 -8.94454867e-03]\n",
      "  [ 4.00868393e-02 -1.52703412e-02 -8.32661241e-03 -1.44430622e-02\n",
      "    2.10403092e-02  2.97329910e-02  4.81932424e-02 -1.82092898e-02\n",
      "   -3.99685130e-02 -9.01147723e-06]\n",
      "  [-4.11713608e-02 -4.76516858e-02  7.24584982e-03 -4.63662297e-03\n",
      "    1.12729557e-02  3.27177681e-02  3.21152471e-02  3.89764793e-02\n",
      "    3.90773527e-02  2.00438164e-02]]\n",
      "\n",
      " [[-4.88149188e-02  1.38456561e-02  2.28932761e-02  1.20052323e-02\n",
      "   -4.59753051e-02  9.74689797e-03 -1.99673772e-02  1.22464411e-02\n",
      "   -3.26864012e-02 -2.72955652e-02]\n",
      "  [-4.88149188e-02  1.38456561e-02  2.28932761e-02  1.20052323e-02\n",
      "   -4.59753051e-02  9.74689797e-03 -1.99673772e-02  1.22464411e-02\n",
      "   -3.26864012e-02 -2.72955652e-02]\n",
      "  [-4.88149188e-02  1.38456561e-02  2.28932761e-02  1.20052323e-02\n",
      "   -4.59753051e-02  9.74689797e-03 -1.99673772e-02  1.22464411e-02\n",
      "   -3.26864012e-02 -2.72955652e-02]\n",
      "  [-4.10384052e-02  1.74250640e-02 -6.93924353e-03  1.02183931e-02\n",
      "    1.79921500e-02  3.68893854e-02  4.36991453e-03 -2.64019854e-02\n",
      "    1.39026307e-02  2.75242664e-02]\n",
      "  [-4.07896154e-02 -3.92385609e-02  9.34988260e-03 -4.01181206e-02\n",
      "    3.51057909e-02 -1.78276077e-02 -2.01547276e-02  1.78346373e-02\n",
      "   -3.82959619e-02  1.34899132e-02]\n",
      "  [ 3.38344015e-02 -2.77113672e-02  3.24949361e-02 -5.09970263e-03\n",
      "    1.53380372e-02  1.90322511e-02  4.42564748e-02  3.52645554e-02\n",
      "    4.01054882e-02  2.42520459e-02]\n",
      "  [-1.43976323e-02 -4.94390130e-02  2.73723491e-02 -3.29960138e-04\n",
      "    4.26367261e-02 -1.24004260e-02  2.63530947e-02 -3.71471792e-03\n",
      "   -4.79318760e-02  6.87346607e-03]\n",
      "  [ 1.00499988e-02 -2.36981045e-02 -2.91224960e-02  1.85474642e-02\n",
      "    4.06040996e-03  4.75559570e-02  4.33909930e-02 -3.02898418e-02\n",
      "   -4.18840274e-02 -6.85343891e-03]]\n",
      "\n",
      " [[-4.88149188e-02  1.38456561e-02  2.28932761e-02  1.20052323e-02\n",
      "   -4.59753051e-02  9.74689797e-03 -1.99673772e-02  1.22464411e-02\n",
      "   -3.26864012e-02 -2.72955652e-02]\n",
      "  [-4.88149188e-02  1.38456561e-02  2.28932761e-02  1.20052323e-02\n",
      "   -4.59753051e-02  9.74689797e-03 -1.99673772e-02  1.22464411e-02\n",
      "   -3.26864012e-02 -2.72955652e-02]\n",
      "  [-4.88149188e-02  1.38456561e-02  2.28932761e-02  1.20052323e-02\n",
      "   -4.59753051e-02  9.74689797e-03 -1.99673772e-02  1.22464411e-02\n",
      "   -3.26864012e-02 -2.72955652e-02]\n",
      "  [-4.88149188e-02  1.38456561e-02  2.28932761e-02  1.20052323e-02\n",
      "   -4.59753051e-02  9.74689797e-03 -1.99673772e-02  1.22464411e-02\n",
      "   -3.26864012e-02 -2.72955652e-02]\n",
      "  [-1.72689185e-02  1.44388787e-02  1.08205788e-02 -1.64217725e-02\n",
      "   -3.07629835e-02  1.73895098e-02 -1.66941434e-04 -4.67066541e-02\n",
      "   -2.98251156e-02  1.85004510e-02]\n",
      "  [-3.87625471e-02 -4.22675498e-02 -1.80294998e-02 -3.67899984e-03\n",
      "    7.70567730e-03 -4.32900898e-02 -3.87636311e-02 -3.30968723e-02\n",
      "   -9.93418694e-03 -1.75321326e-02]\n",
      "  [-4.25084494e-02 -1.49806961e-02  1.41277350e-02  4.91807200e-02\n",
      "    3.99577618e-03 -1.54443868e-02  1.10214725e-02 -8.69730860e-03\n",
      "    2.14671604e-02  4.73772176e-02]\n",
      "  [ 4.00868393e-02 -1.52703412e-02 -8.32661241e-03 -1.44430622e-02\n",
      "    2.10403092e-02  2.97329910e-02  4.81932424e-02 -1.82092898e-02\n",
      "   -3.99685130e-02 -9.01147723e-06]]]\n"
     ]
    }
   ],
   "source": [
    "print(model.predict(emb))"
   ]
  },
  {
   "cell_type": "code",
   "execution_count": 19,
   "metadata": {},
   "outputs": [
    {
     "data": {
      "text/plain": [
       "array([   0,    0,    0,    0, 3703, 3545, 8126, 9404])"
      ]
     },
     "execution_count": 19,
     "metadata": {},
     "output_type": "execute_result"
    }
   ],
   "source": [
    "emb[0]"
   ]
  },
  {
   "cell_type": "code",
   "execution_count": 21,
   "metadata": {},
   "outputs": [
    {
     "name": "stdout",
     "output_type": "stream",
     "text": [
      "[[-0.04881492  0.01384566  0.02289328  0.01200523 -0.04597531  0.0097469\n",
      "  -0.01996738  0.01224644 -0.0326864  -0.02729557]\n",
      " [-0.04881492  0.01384566  0.02289328  0.01200523 -0.04597531  0.0097469\n",
      "  -0.01996738  0.01224644 -0.0326864  -0.02729557]\n",
      " [-0.04881492  0.01384566  0.02289328  0.01200523 -0.04597531  0.0097469\n",
      "  -0.01996738  0.01224644 -0.0326864  -0.02729557]\n",
      " [-0.04881492  0.01384566  0.02289328  0.01200523 -0.04597531  0.0097469\n",
      "  -0.01996738  0.01224644 -0.0326864  -0.02729557]\n",
      " [-0.04078962 -0.03923856  0.00934988 -0.04011812  0.03510579 -0.01782761\n",
      "  -0.02015473  0.01783464 -0.03829596  0.01348991]\n",
      " [ 0.04322537  0.02142901  0.04141498  0.00995321 -0.01228706 -0.0297864\n",
      "   0.02147028 -0.04691664 -0.00463889  0.01875397]\n",
      " [-0.01439763 -0.04943901  0.02737235 -0.00032996  0.04263673 -0.01240043\n",
      "   0.02635309 -0.00371472 -0.04793188  0.00687347]\n",
      " [-0.01751568  0.01647064  0.0363237  -0.01832122  0.03914234 -0.0218868\n",
      "  -0.03605521 -0.03228338 -0.03479086  0.04959108]]\n"
     ]
    }
   ],
   "source": [
    "print(model.predict(emb)[0])"
   ]
  },
  {
   "cell_type": "code",
   "execution_count": null,
   "metadata": {},
   "outputs": [],
   "source": []
  },
  {
   "cell_type": "code",
   "execution_count": 22,
   "metadata": {},
   "outputs": [],
   "source": [
    "import keras\n",
    "from keras.preprocessing.sequence import pad_sequences\n",
    "from keras.preprocessing.text import one_hot\n",
    "from keras.layers import Embedding\n",
    "from keras.models import Sequential"
   ]
  },
  {
   "cell_type": "code",
   "execution_count": 23,
   "metadata": {},
   "outputs": [],
   "source": [
    "sent=['the glass of milk','the glass of juice','the cup of tea','i am a good developer',\n",
    "      'understand the meaning of words','your videos are good']"
   ]
  },
  {
   "cell_type": "code",
   "execution_count": 24,
   "metadata": {},
   "outputs": [
    {
     "data": {
      "text/plain": [
       "['the glass of milk',\n",
       " 'the glass of juice',\n",
       " 'the cup of tea',\n",
       " 'i am a good developer',\n",
       " 'understand the meaning of words',\n",
       " 'your videos are good']"
      ]
     },
     "execution_count": 24,
     "metadata": {},
     "output_type": "execute_result"
    }
   ],
   "source": [
    "sent"
   ]
  },
  {
   "cell_type": "code",
   "execution_count": 25,
   "metadata": {},
   "outputs": [],
   "source": [
    "voc_size=10000"
   ]
  },
  {
   "cell_type": "code",
   "execution_count": 26,
   "metadata": {},
   "outputs": [],
   "source": [
    "dim=10"
   ]
  },
  {
   "cell_type": "code",
   "execution_count": 31,
   "metadata": {
    "scrolled": false
   },
   "outputs": [
    {
     "data": {
      "text/plain": [
       "[[3703, 3545, 8126, 9404],\n",
       " [3703, 3545, 8126, 2626],\n",
       " [3703, 3240, 8126, 2859],\n",
       " [9094, 7276, 1565, 6302, 446],\n",
       " [5705, 3703, 176, 8126, 7371],\n",
       " [4684, 6289, 5361, 6302]]"
      ]
     },
     "execution_count": 31,
     "metadata": {},
     "output_type": "execute_result"
    }
   ],
   "source": [
    "length=8\n",
    "df=[one_hot(words,voc_size) for words in sent]\n",
    "df"
   ]
  },
  {
   "cell_type": "code",
   "execution_count": null,
   "metadata": {},
   "outputs": [],
   "source": [
    "model=Sequential()\n",
    "model.add(E)"
   ]
  },
  {
   "cell_type": "code",
   "execution_count": 35,
   "metadata": {},
   "outputs": [
    {
     "ename": "ValueError",
     "evalue": "`sequences` must be iterable.",
     "output_type": "error",
     "traceback": [
      "\u001b[1;31m---------------------------------------------------------------------------\u001b[0m",
      "\u001b[1;31mValueError\u001b[0m                                Traceback (most recent call last)",
      "\u001b[1;32m<ipython-input-35-e4ea1bc121af>\u001b[0m in \u001b[0;36m<module>\u001b[1;34m\u001b[0m\n\u001b[1;32m----> 1\u001b[1;33m \u001b[0memb\u001b[0m\u001b[1;33m=\u001b[0m\u001b[0mpad_sequences\u001b[0m\u001b[1;33m(\u001b[0m\u001b[0mEmbedding\u001b[0m\u001b[1;33m(\u001b[0m\u001b[0mvoc_size\u001b[0m\u001b[1;33m,\u001b[0m\u001b[0mdim\u001b[0m\u001b[1;33m,\u001b[0m\u001b[0minput_length\u001b[0m\u001b[1;33m=\u001b[0m\u001b[0mlength\u001b[0m\u001b[1;33m)\u001b[0m\u001b[1;33m)\u001b[0m\u001b[1;33m\u001b[0m\u001b[1;33m\u001b[0m\u001b[0m\n\u001b[0m\u001b[0;32m      2\u001b[0m \u001b[0memb\u001b[0m\u001b[1;33m\u001b[0m\u001b[1;33m\u001b[0m\u001b[0m\n",
      "\u001b[1;32m~\\anaconda3\\lib\\site-packages\\tensorflow\\python\\keras\\preprocessing\\sequence.py\u001b[0m in \u001b[0;36mpad_sequences\u001b[1;34m(sequences, maxlen, dtype, padding, truncating, value)\u001b[0m\n\u001b[0;32m    154\u001b[0m           \u001b[1;32mor\u001b[0m \u001b[1;32min\u001b[0m \u001b[0mcase\u001b[0m \u001b[0mof\u001b[0m \u001b[0minvalid\u001b[0m \u001b[0mshape\u001b[0m \u001b[1;32mfor\u001b[0m \u001b[0ma\u001b[0m\u001b[0;31m \u001b[0m\u001b[0;31m`\u001b[0m\u001b[0msequences\u001b[0m\u001b[0;31m`\u001b[0m \u001b[0mentry\u001b[0m\u001b[1;33m.\u001b[0m\u001b[1;33m\u001b[0m\u001b[1;33m\u001b[0m\u001b[0m\n\u001b[0;32m    155\u001b[0m   \"\"\"\n\u001b[1;32m--> 156\u001b[1;33m   return sequence.pad_sequences(\n\u001b[0m\u001b[0;32m    157\u001b[0m       \u001b[0msequences\u001b[0m\u001b[1;33m,\u001b[0m \u001b[0mmaxlen\u001b[0m\u001b[1;33m=\u001b[0m\u001b[0mmaxlen\u001b[0m\u001b[1;33m,\u001b[0m \u001b[0mdtype\u001b[0m\u001b[1;33m=\u001b[0m\u001b[0mdtype\u001b[0m\u001b[1;33m,\u001b[0m\u001b[1;33m\u001b[0m\u001b[1;33m\u001b[0m\u001b[0m\n\u001b[0;32m    158\u001b[0m       padding=padding, truncating=truncating, value=value)\n",
      "\u001b[1;32m~\\anaconda3\\lib\\site-packages\\keras_preprocessing\\sequence.py\u001b[0m in \u001b[0;36mpad_sequences\u001b[1;34m(sequences, maxlen, dtype, padding, truncating, value)\u001b[0m\n\u001b[0;32m     54\u001b[0m     \"\"\"\n\u001b[0;32m     55\u001b[0m     \u001b[1;32mif\u001b[0m \u001b[1;32mnot\u001b[0m \u001b[0mhasattr\u001b[0m\u001b[1;33m(\u001b[0m\u001b[0msequences\u001b[0m\u001b[1;33m,\u001b[0m \u001b[1;34m'__len__'\u001b[0m\u001b[1;33m)\u001b[0m\u001b[1;33m:\u001b[0m\u001b[1;33m\u001b[0m\u001b[1;33m\u001b[0m\u001b[0m\n\u001b[1;32m---> 56\u001b[1;33m         \u001b[1;32mraise\u001b[0m \u001b[0mValueError\u001b[0m\u001b[1;33m(\u001b[0m\u001b[1;34m'`sequences` must be iterable.'\u001b[0m\u001b[1;33m)\u001b[0m\u001b[1;33m\u001b[0m\u001b[1;33m\u001b[0m\u001b[0m\n\u001b[0m\u001b[0;32m     57\u001b[0m     \u001b[0mnum_samples\u001b[0m \u001b[1;33m=\u001b[0m \u001b[0mlen\u001b[0m\u001b[1;33m(\u001b[0m\u001b[0msequences\u001b[0m\u001b[1;33m)\u001b[0m\u001b[1;33m\u001b[0m\u001b[1;33m\u001b[0m\u001b[0m\n\u001b[0;32m     58\u001b[0m \u001b[1;33m\u001b[0m\u001b[0m\n",
      "\u001b[1;31mValueError\u001b[0m: `sequences` must be iterable."
     ]
    }
   ],
   "source": [
    "emb=pad_sequences(Embedding(voc_size,dim,input_length=length))\n",
    "emb"
   ]
  },
  {
   "cell_type": "code",
   "execution_count": 36,
   "metadata": {},
   "outputs": [],
   "source": [
    "import keras\n",
    "from keras.preprocessing.text import one_hot\n",
    "from keras.preprocessing.sequence import pad_sequences\n",
    "from keras.layers import Embedding\n",
    "from keras.models import Sequential"
   ]
  },
  {
   "cell_type": "code",
   "execution_count": 37,
   "metadata": {},
   "outputs": [],
   "source": [
    "sent=['the glass of milk','the glass of juice','the cup of tea','i am a good developer',\n",
    "      'understand the meaning of words','your videos are good']"
   ]
  },
  {
   "cell_type": "code",
   "execution_count": 38,
   "metadata": {},
   "outputs": [
    {
     "data": {
      "text/plain": [
       "['the glass of milk',\n",
       " 'the glass of juice',\n",
       " 'the cup of tea',\n",
       " 'i am a good developer',\n",
       " 'understand the meaning of words',\n",
       " 'your videos are good']"
      ]
     },
     "execution_count": 38,
     "metadata": {},
     "output_type": "execute_result"
    }
   ],
   "source": [
    "sent"
   ]
  },
  {
   "cell_type": "code",
   "execution_count": 39,
   "metadata": {},
   "outputs": [],
   "source": [
    "voc_size=10000\n",
    "dim=10"
   ]
  },
  {
   "cell_type": "code",
   "execution_count": 40,
   "metadata": {},
   "outputs": [
    {
     "data": {
      "text/plain": [
       "[[3703, 3545, 8126, 9404],\n",
       " [3703, 3545, 8126, 2626],\n",
       " [3703, 3240, 8126, 2859],\n",
       " [9094, 7276, 1565, 6302, 446],\n",
       " [5705, 3703, 176, 8126, 7371],\n",
       " [4684, 6289, 5361, 6302]]"
      ]
     },
     "execution_count": 40,
     "metadata": {},
     "output_type": "execute_result"
    }
   ],
   "source": [
    "df=[one_hot(words,voc_size) for words in sent]\n",
    "df"
   ]
  },
  {
   "cell_type": "code",
   "execution_count": 41,
   "metadata": {},
   "outputs": [
    {
     "data": {
      "text/plain": [
       "array([[   0,    0,    0,    0, 3703, 3545, 8126, 9404],\n",
       "       [   0,    0,    0,    0, 3703, 3545, 8126, 2626],\n",
       "       [   0,    0,    0,    0, 3703, 3240, 8126, 2859],\n",
       "       [   0,    0,    0, 9094, 7276, 1565, 6302,  446],\n",
       "       [   0,    0,    0, 5705, 3703,  176, 8126, 7371],\n",
       "       [   0,    0,    0,    0, 4684, 6289, 5361, 6302]])"
      ]
     },
     "execution_count": 41,
     "metadata": {},
     "output_type": "execute_result"
    }
   ],
   "source": [
    "emb=pad_sequences(df,maxlen=8,padding='pre')\n",
    "emb"
   ]
  },
  {
   "cell_type": "code",
   "execution_count": 43,
   "metadata": {},
   "outputs": [
    {
     "name": "stdout",
     "output_type": "stream",
     "text": [
      "Model: \"sequential_3\"\n",
      "_________________________________________________________________\n",
      "Layer (type)                 Output Shape              Param #   \n",
      "=================================================================\n",
      "embedding_3 (Embedding)      (None, 8, 10)             100000    \n",
      "=================================================================\n",
      "Total params: 100,000\n",
      "Trainable params: 100,000\n",
      "Non-trainable params: 0\n",
      "_________________________________________________________________\n"
     ]
    }
   ],
   "source": [
    "model=Sequential()\n",
    "model.add(Embedding(voc_size,10,input_length=8))\n",
    "model.compile('adam','mse')\n",
    "model.summary()"
   ]
  },
  {
   "cell_type": "code",
   "execution_count": 44,
   "metadata": {},
   "outputs": [
    {
     "data": {
      "text/plain": [
       "array([   0,    0,    0,    0, 3703, 3545, 8126, 9404])"
      ]
     },
     "execution_count": 44,
     "metadata": {},
     "output_type": "execute_result"
    }
   ],
   "source": [
    "emb[0]"
   ]
  },
  {
   "cell_type": "code",
   "execution_count": 45,
   "metadata": {},
   "outputs": [
    {
     "name": "stdout",
     "output_type": "stream",
     "text": [
      "[[ 0.02893845 -0.04278136  0.00959117  0.01054429  0.01157656 -0.00502093\n",
      "   0.04653821 -0.02558572 -0.03852822  0.02796509]\n",
      " [ 0.02893845 -0.04278136  0.00959117  0.01054429  0.01157656 -0.00502093\n",
      "   0.04653821 -0.02558572 -0.03852822  0.02796509]\n",
      " [ 0.02893845 -0.04278136  0.00959117  0.01054429  0.01157656 -0.00502093\n",
      "   0.04653821 -0.02558572 -0.03852822  0.02796509]\n",
      " [ 0.02893845 -0.04278136  0.00959117  0.01054429  0.01157656 -0.00502093\n",
      "   0.04653821 -0.02558572 -0.03852822  0.02796509]\n",
      " [ 0.02763252 -0.00498134  0.03104173  0.01713339  0.04269776  0.01571293\n",
      "  -0.0215435  -0.01728521 -0.03917838  0.03806773]\n",
      " [-0.02629542  0.00108879  0.02858258 -0.04991428  0.00246952 -0.00731017\n",
      "  -0.03599428 -0.00925834  0.03443125  0.02754362]\n",
      " [-0.03641178 -0.01782118 -0.03362159  0.02568972  0.03686073 -0.04840351\n",
      "  -0.00061224  0.00497288  0.03052567 -0.01868712]\n",
      " [ 0.01501068 -0.02512971 -0.01942289 -0.04539361 -0.01278912 -0.04584069\n",
      "  -0.00254294  0.04898596  0.00435079  0.00808398]]\n"
     ]
    }
   ],
   "source": [
    "print(model.predict(emb)[0])"
   ]
  },
  {
   "cell_type": "code",
   "execution_count": null,
   "metadata": {},
   "outputs": [],
   "source": []
  }
 ],
 "metadata": {
  "kernelspec": {
   "display_name": "Python 3",
   "language": "python",
   "name": "python3"
  },
  "language_info": {
   "codemirror_mode": {
    "name": "ipython",
    "version": 3
   },
   "file_extension": ".py",
   "mimetype": "text/x-python",
   "name": "python",
   "nbconvert_exporter": "python",
   "pygments_lexer": "ipython3",
   "version": "3.8.3"
  }
 },
 "nbformat": 4,
 "nbformat_minor": 4
}
